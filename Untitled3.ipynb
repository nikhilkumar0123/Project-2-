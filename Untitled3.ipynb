{
  "nbformat": 4,
  "nbformat_minor": 0,
  "metadata": {
    "colab": {
      "provenance": []
    },
    "kernelspec": {
      "name": "python3",
      "display_name": "Python 3"
    },
    "language_info": {
      "name": "python"
    }
  },
  "cells": [
    {
      "cell_type": "code",
      "execution_count": null,
      "metadata": {
        "id": "1aRyO47CfUiL"
      },
      "outputs": [],
      "source": []
    },
    {
      "cell_type": "markdown",
      "source": [
        "## **Predicting Car Mileage Using Machine Learning**"
      ],
      "metadata": {
        "id": "mlC3I9pQf86K"
      }
    },
    {
      "cell_type": "markdown",
      "source": [
        "# Objective :\n",
        "To develop a machine learning model that predicts the miles per gallon (MPG) of cars based on various features such as horsepower, weight, and model year."
      ],
      "metadata": {
        "id": "tDbfvXvDgA_S"
      }
    },
    {
      "cell_type": "markdown",
      "source": [
        "Data Source :\n",
        "The dataset is sourced from the YBI Foundation's repository on GitHub:\n",
        "MPG Dataset"
      ],
      "metadata": {
        "id": "gHkW70AogHeC"
      }
    },
    {
      "cell_type": "code",
      "source": [
        "import pandas as pd\n",
        "import numpy as np\n",
        "import matplotlib.pyplot as plt\n",
        "import seaborn as sns\n",
        "from sklearn.model_selection import train_test_split\n",
        "from sklearn.preprocessing import StandardScaler\n",
        "from sklearn.linear_model import LinearRegression\n",
        "from sklearn.metrics import mean_squared_error, r2_score\n",
        "\n",
        "# Load the dataset\n",
        "url = \"https://github.com/YBI-Foundation/Dataset/raw/main/MPG.csv\"\n",
        "data = pd.read_csv(url)\n",
        "\n",
        "# Inspect the dataset\n",
        "print(data.head())\n",
        "print(data.columns)\n",
        "\n",
        "# Check for and handle missing values\n",
        "print(data.isnull().sum())\n",
        "data = data.dropna()  # Drop rows with missing values, or use imputation if preferred\n",
        "\n",
        "# Identify categorical columns\n",
        "categorical_cols = data.select_dtypes(include=['object']).columns\n",
        "print(f'Categorical columns: {categorical_cols}')\n",
        "\n",
        "# Convert categorical columns to numerical using one-hot encoding\n",
        "data = pd.get_dummies(data, columns=categorical_cols, drop_first=True)\n",
        "\n",
        "# Define target and feature variables\n",
        "target_column = 'mpg'  # Ensure this matches the actual target column name\n",
        "X = data.drop(target_column, axis=1)\n",
        "y = data[target_column]\n",
        "\n",
        "# Check data types to ensure all features are numeric\n",
        "print(X.dtypes)\n",
        "\n",
        "# Scale the feature variables\n",
        "scaler = StandardScaler()\n",
        "X_scaled = scaler.fit_transform(X)\n",
        "\n",
        "# Split the data into training and testing sets\n",
        "X_train, X_test, y_train, y_test = train_test_split(X_scaled, y, test_size=0.2, random_state=42)\n",
        "\n",
        "# Initialize and train the Linear Regression model\n",
        "model = LinearRegression()\n",
        "model.fit(X_train, y_train)\n",
        "\n",
        "# Predict on the test data\n",
        "y_pred = model.predict(X_test)\n",
        "\n",
        "# Calculate metrics\n",
        "mse = mean_squared_error(y_test, y_pred)\n",
        "r2 = r2_score(y_test, y_pred)\n",
        "print(f'Mean Squared Error: {mse}')\n",
        "print(f'R-squared: {r2}')\n",
        "\n",
        "# Plot actual vs predicted values\n",
        "plt.scatter(y_test, y_pred)\n",
        "plt.xlabel('Actual MPG')\n",
        "plt.ylabel('Predicted MPG')\n",
        "plt.title('Actual vs Predicted MPG')\n",
        "plt.show()\n",
        "\n",
        "# Make predictions on new data (example)\n",
        "new_data = X_test[:5]  # Using the first 5 samples from the test set\n",
        "predictions = model.predict(new_data)\n",
        "print(f'Predictions: {predictions}')\n"
      ],
      "metadata": {
        "colab": {
          "base_uri": "https://localhost:8080/",
          "height": 1000
        },
        "id": "uDa_5tzHgKnP",
        "outputId": "38f74d25-9c12-4689-e09a-82ce17ef3517"
      },
      "execution_count": 5,
      "outputs": [
        {
          "output_type": "stream",
          "name": "stdout",
          "text": [
            "    mpg  cylinders  displacement  horsepower  weight  acceleration  \\\n",
            "0  18.0          8         307.0       130.0    3504          12.0   \n",
            "1  15.0          8         350.0       165.0    3693          11.5   \n",
            "2  18.0          8         318.0       150.0    3436          11.0   \n",
            "3  16.0          8         304.0       150.0    3433          12.0   \n",
            "4  17.0          8         302.0       140.0    3449          10.5   \n",
            "\n",
            "   model_year origin                       name  \n",
            "0          70    usa  chevrolet chevelle malibu  \n",
            "1          70    usa          buick skylark 320  \n",
            "2          70    usa         plymouth satellite  \n",
            "3          70    usa              amc rebel sst  \n",
            "4          70    usa                ford torino  \n",
            "Index(['mpg', 'cylinders', 'displacement', 'horsepower', 'weight',\n",
            "       'acceleration', 'model_year', 'origin', 'name'],\n",
            "      dtype='object')\n",
            "mpg             0\n",
            "cylinders       0\n",
            "displacement    0\n",
            "horsepower      6\n",
            "weight          0\n",
            "acceleration    0\n",
            "model_year      0\n",
            "origin          0\n",
            "name            0\n",
            "dtype: int64\n",
            "Categorical columns: Index(['origin', 'name'], dtype='object')\n",
            "cylinders                      int64\n",
            "displacement                 float64\n",
            "horsepower                   float64\n",
            "weight                         int64\n",
            "acceleration                 float64\n",
            "                              ...   \n",
            "name_vw dasher (diesel)         bool\n",
            "name_vw pickup                  bool\n",
            "name_vw rabbit                  bool\n",
            "name_vw rabbit c (diesel)       bool\n",
            "name_vw rabbit custom           bool\n",
            "Length: 308, dtype: object\n",
            "Mean Squared Error: 3.3505618744920266e+29\n",
            "R-squared: -6.564505461753932e+27\n"
          ]
        },
        {
          "output_type": "display_data",
          "data": {
            "text/plain": [
              "<Figure size 640x480 with 1 Axes>"
            ],
            "image/png": "[encoded data removed]"
          },
          "metadata": {}
        },
        {
          "output_type": "stream",
          "name": "stdout",
          "text": [
            "Predictions: [-1.03060747e+14  2.64008949e+14  3.56279297e+01 -1.55882716e+14\n",
            " -1.55882716e+14]\n"
          ]
        }
      ]
    },
    {
      "cell_type": "markdown",
      "source": [
        "## Explanation\n",
        " In this project, we used the MPG dataset to build a machine learning model to predict car mileage based on various features. We started by loading and exploring the dataset, then visualized the relationships between features and the target variable. After preprocessing the data, including scaling and handling categorical variables, we split it into training and testing sets. We trained a Linear Regression model and evaluated its performance using Mean Squared Error and R-squared metrics. The model demonstrated its ability to predict MPG values, providing insights into how different features influence car mileage."
      ],
      "metadata": {
        "id": "g8bKzYRwgn0E"
      }
    }
  ]
}